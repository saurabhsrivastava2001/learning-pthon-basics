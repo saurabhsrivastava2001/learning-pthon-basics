{
 "cells": [
  {
   "cell_type": "code",
   "execution_count": 1,
   "id": "93325058-dec8-40de-8edb-359f7422f28b",
   "metadata": {},
   "outputs": [
    {
     "data": {
      "text/plain": [
       "7"
      ]
     },
     "execution_count": 1,
     "metadata": {},
     "output_type": "execute_result"
    }
   ],
   "source": [
    "len ('sAURABH')"
   ]
  },
  {
   "cell_type": "code",
   "execution_count": 3,
   "id": "b6534452-a5b5-425e-8251-d145fe3644a9",
   "metadata": {},
   "outputs": [
    {
     "data": {
      "text/plain": [
       "['S', 'A', 'U', 'R', 'A', 'B', 'H']"
      ]
     },
     "execution_count": 3,
     "metadata": {},
     "output_type": "execute_result"
    }
   ],
   "source": [
    "s= 'SAURABH'\n",
    "list(s)"
   ]
  },
  {
   "cell_type": "code",
   "execution_count": 4,
   "id": "fea2db91-b93b-496d-a399-73621626c255",
   "metadata": {},
   "outputs": [
    {
     "data": {
      "text/plain": [
       "'U'"
      ]
     },
     "execution_count": 4,
     "metadata": {},
     "output_type": "execute_result"
    }
   ],
   "source": [
    "max(s)"
   ]
  },
  {
   "cell_type": "code",
   "execution_count": 6,
   "id": "70fc3735-1670-4779-b2c7-964160e0f830",
   "metadata": {},
   "outputs": [
    {
     "data": {
      "text/plain": [
       "35937"
      ]
     },
     "execution_count": 6,
     "metadata": {},
     "output_type": "execute_result"
    }
   ],
   "source": [
    "pow(33,3)"
   ]
  },
  {
   "cell_type": "code",
   "execution_count": 7,
   "id": "efd547ec-9086-4c55-9ab6-d8735d835706",
   "metadata": {},
   "outputs": [
    {
     "data": {
      "text/plain": [
       "334242423"
      ]
     },
     "execution_count": 7,
     "metadata": {},
     "output_type": "execute_result"
    }
   ],
   "source": [
    "a=334242423\n",
    "round(a)"
   ]
  },
  {
   "cell_type": "code",
   "execution_count": 8,
   "id": "bc76c772-4276-4bce-8601-11889d9a22dc",
   "metadata": {},
   "outputs": [
    {
     "data": {
      "text/plain": [
       "'334242423'"
      ]
     },
     "execution_count": 8,
     "metadata": {},
     "output_type": "execute_result"
    }
   ],
   "source": [
    "str(a)"
   ]
  },
  {
   "cell_type": "code",
   "execution_count": 10,
   "id": "f1a516c1-a8df-432f-b885-4b136a441952",
   "metadata": {},
   "outputs": [
    {
     "data": {
      "text/plain": [
       "('S', 'A', 'U', 'R', 'A', 'B', 'H')"
      ]
     },
     "execution_count": 10,
     "metadata": {},
     "output_type": "execute_result"
    }
   ],
   "source": [
    "tuple(s)"
   ]
  },
  {
   "cell_type": "code",
   "execution_count": 12,
   "id": "b5a69def-895a-4797-bfed-685dcbb1bcca",
   "metadata": {},
   "outputs": [
    {
     "data": {
      "text/plain": [
       "2"
      ]
     },
     "execution_count": 12,
     "metadata": {},
     "output_type": "execute_result"
    }
   ],
   "source": [
    "s.count('A')"
   ]
  },
  {
   "cell_type": "code",
   "execution_count": 16,
   "id": "26f1f9d2-2027-47bb-919b-b1da844ecf4d",
   "metadata": {},
   "outputs": [
    {
     "data": {
      "text/plain": [
       "b'SAURABH'"
      ]
     },
     "execution_count": 16,
     "metadata": {},
     "output_type": "execute_result"
    }
   ],
   "source": [
    "s.encode()"
   ]
  },
  {
   "cell_type": "code",
   "execution_count": 17,
   "id": "3fe2e3dc-cf44-4e36-bc2e-871adb7c03ad",
   "metadata": {},
   "outputs": [
    {
     "data": {
      "text/plain": [
       "6"
      ]
     },
     "execution_count": 17,
     "metadata": {},
     "output_type": "execute_result"
    }
   ],
   "source": [
    "s.find('H')"
   ]
  },
  {
   "cell_type": "code",
   "execution_count": 18,
   "id": "205bb0e8-5aca-4f60-9ad1-7166a2e079bd",
   "metadata": {},
   "outputs": [
    {
     "data": {
      "text/plain": [
       "'saurabh'"
      ]
     },
     "execution_count": 18,
     "metadata": {},
     "output_type": "execute_result"
    }
   ],
   "source": [
    "s.lower()"
   ]
  },
  {
   "cell_type": "code",
   "execution_count": 19,
   "id": "9c844d5e-504b-4df7-baec-0f796f503514",
   "metadata": {},
   "outputs": [
    {
     "data": {
      "text/plain": [
       "'SAURABH'"
      ]
     },
     "execution_count": 19,
     "metadata": {},
     "output_type": "execute_result"
    }
   ],
   "source": [
    "s.rstrip()"
   ]
  },
  {
   "cell_type": "code",
   "execution_count": null,
   "id": "ae4fe1a7-5200-4efe-ae02-f0e82e1d8336",
   "metadata": {},
   "outputs": [],
   "source": []
  }
 ],
 "metadata": {
  "kernelspec": {
   "display_name": "Python 3 (ipykernel)",
   "language": "python",
   "name": "python3"
  },
  "language_info": {
   "codemirror_mode": {
    "name": "ipython",
    "version": 3
   },
   "file_extension": ".py",
   "mimetype": "text/x-python",
   "name": "python",
   "nbconvert_exporter": "python",
   "pygments_lexer": "ipython3",
   "version": "3.10.6"
  }
 },
 "nbformat": 4,
 "nbformat_minor": 5
}
