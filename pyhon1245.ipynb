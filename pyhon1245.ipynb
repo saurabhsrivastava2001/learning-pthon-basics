{
 "cells": [
  {
   "cell_type": "code",
   "execution_count": 8,
   "id": "2a47c6d4",
   "metadata": {},
   "outputs": [
    {
     "name": "stdout",
     "output_type": "stream",
     "text": [
      "Hello monica,morning\n",
      "Hello ram,jai hind\n",
      "Hello user,morning\n"
     ]
    }
   ],
   "source": [
    "def greet (name=\"user\" ,msg=\"morning\" ):\n",
    "    print (\"Hello\",name + ','+msg)\n",
    "    \n",
    "greet (\"monica\")\n",
    "greet (\"ram\" ,\"jai hind\")\n",
    "greet ()"
   ]
  },
  {
   "cell_type": "code",
   "execution_count": 9,
   "id": "2128dad5",
   "metadata": {},
   "outputs": [
    {
     "name": "stdout",
     "output_type": "stream",
     "text": [
      "('monica', 'ram', 'abhinav')\n"
     ]
    }
   ],
   "source": [
    "def greet(*names):\n",
    "    print(names)\n",
    "greet (\"monica\",\"ram\",\"abhinav\")"
   ]
  },
  {
   "cell_type": "code",
   "execution_count": 10,
   "id": "8c641d38",
   "metadata": {},
   "outputs": [
    {
     "name": "stdout",
     "output_type": "stream",
     "text": [
      "25\n"
     ]
    }
   ],
   "source": [
    "#lambda functions\n",
    "square = lambda x: x*x\n",
    "#function call\n",
    "result = square (5)\n",
    "print (result)"
   ]
  },
  {
   "cell_type": "code",
   "execution_count": 28,
   "id": "3363cc7d",
   "metadata": {
    "scrolled": true
   },
   "outputs": [
    {
     "name": "stdout",
     "output_type": "stream",
     "text": [
      "6402373705728000\n"
     ]
    }
   ],
   "source": [
    "#factorial of the number\n",
    "def  fact(n):\n",
    "    if n==1:\n",
    "        return 1\n",
    "    else:\n",
    "        return n*fact(n-1)\n",
    "    \n",
    "ans=fact(18)\n",
    "print (ans)"
   ]
  },
  {
   "cell_type": "code",
   "execution_count": 30,
   "id": "28d1f164",
   "metadata": {
    "scrolled": false
   },
   "outputs": [
    {
     "name": "stdout",
     "output_type": "stream",
     "text": [
      "171\n"
     ]
    }
   ],
   "source": [
    "#sum of first n natural numbers prepista n.3\n",
    "n=18\n",
    "def add_till(n):\n",
    "    if n==1:\n",
    "        return 1\n",
    "    else:\n",
    "        return n+ add_till (n-1)\n",
    "    \n",
    "print(add_till(18))"
   ]
  },
  {
   "cell_type": "code",
   "execution_count": 27,
   "id": "c164b7af",
   "metadata": {},
   "outputs": [
    {
     "name": "stdout",
     "output_type": "stream",
     "text": [
      "prime number\n"
     ]
    }
   ],
   "source": [
    "#prime number\n",
    "num=577\n",
    "count = 0\n",
    "for i in range(1,num ):\n",
    "    if num%i==0:\n",
    "        count=1\n",
    "    else :\n",
    "        count=0\n",
    "if count==0:\n",
    "    print(\"prime number\")\n",
    "else :\n",
    "    print (\"non-prime\")\n",
    "    "
   ]
  },
  {
   "cell_type": "code",
   "execution_count": 6,
   "id": "8fcf913c",
   "metadata": {},
   "outputs": [
    {
     "name": "stdout",
     "output_type": "stream",
     "text": [
      "333\n",
      "55\n"
     ]
    }
   ],
   "source": [
    "#understanding lists and accessing the list element\n",
    "num=[333,334,55,332,74,33]\n",
    "print(num[0])\n",
    "print(num[-4])"
   ]
  },
  {
   "cell_type": "code",
   "execution_count": 13,
   "id": "b21ef23e",
   "metadata": {
    "scrolled": true
   },
   "outputs": [
    {
     "name": "stdout",
     "output_type": "stream",
     "text": [
      "['t', 'h', 'o']\n",
      "['y', 't', 'h']\n",
      "['p', 'y', 't', 'h', 'o']\n"
     ]
    }
   ],
   "source": [
    "#sliicing of a list\n",
    "#slicing operator=\" :\"\n",
    "# (a:b)= a'th to b'th elmnt(not index wise)\n",
    "my_l=['p','y','t','h','o','n']\n",
    "#element 3rd to 5th\n",
    "print(my_l[2:5])\n",
    "print(my_l[-5:4])\n",
    "print(my_l[:5])"
   ]
  },
  {
   "cell_type": "code",
   "execution_count": 2,
   "id": "e4edec9d",
   "metadata": {},
   "outputs": [
    {
     "name": "stdout",
     "output_type": "stream",
     "text": [
      "['p', 'y', 'y', 't', 'h', 'n']\n"
     ]
    }
   ],
   "source": [
    "#lists are mutable ( list itemms can be changed)\n",
    "my_l=['p','y','t','h','o','n']\n",
    "my_l[2:5]=['y', 't', 'h']\n",
    "print(my_l)"
   ]
  },
  {
   "cell_type": "code",
   "execution_count": 15,
   "id": "463b2d46",
   "metadata": {},
   "outputs": [
    {
     "name": "stdout",
     "output_type": "stream",
     "text": [
      "[2, 55, 8, 99, 96, 8]\n",
      "[2, 55, 8, 99, 96, 8, 4, 55, 6, 8]\n"
     ]
    }
   ],
   "source": [
    "#append and extend\n",
    "x=[2,55,8,99,96]\n",
    "x.append(8)\n",
    "print(x)\n",
    "u=x.extend([4,55,6,8])\n",
    "print(x)"
   ]
  },
  {
   "cell_type": "code",
   "execution_count": 19,
   "id": "fc8ce915",
   "metadata": {
    "scrolled": true
   },
   "outputs": [
    {
     "name": "stdout",
     "output_type": "stream",
     "text": [
      "[2, 55, 8, 99, 96, 2, 55, 8, 99, 96, 2, 55, 8, 99, 96]\n",
      "[2, 55, 8, 99, 96, 4, 5, 6, 7]\n"
     ]
    }
   ],
   "source": [
    "#using * and +operatords o a ist\n",
    "x=[2,55,8,99,96]\n",
    "print (x*3)\n",
    "#wrte x three time\n",
    "print (x+[4,5,6,7])"
   ]
  },
  {
   "cell_type": "code",
   "execution_count": 23,
   "id": "3bd162fd",
   "metadata": {},
   "outputs": [
    {
     "name": "stdout",
     "output_type": "stream",
     "text": [
      "[2, 5, 55, 8, 99, 96]\n",
      "[2, 5, 4, 55, 8, 99, 96]\n"
     ]
    }
   ],
   "source": [
    "#insert _usefd to put any objrct to a speifivc index\n",
    "x=[2,55,8,99,96]\n",
    "x.insert(1,5)\n",
    "#put 5 at first index\n",
    "print(x)\n",
    "x.insert(2,4) \n",
    "print ( x)"
   ]
  },
  {
   "cell_type": "code",
   "execution_count": 28,
   "id": "46329314",
   "metadata": {},
   "outputs": [
    {
     "name": "stdout",
     "output_type": "stream",
     "text": [
      "[2, 5, 4, 55, 99, 96]\n",
      "[2, 55, 99, 96]\n"
     ]
    }
   ],
   "source": [
    "#deleting items\n",
    "x=[2, 5, 4, 55, 8, 99, 96]\n",
    "del x[4]\n",
    "print(x)\n",
    "del x[1:3]\n",
    "print(x)\n"
   ]
  },
  {
   "cell_type": "code",
   "execution_count": 37,
   "id": "9f2e8210",
   "metadata": {
    "scrolled": true
   },
   "outputs": [
    {
     "name": "stdout",
     "output_type": "stream",
     "text": [
      "[1, 3, 4, 5, 6, 7, 8, 9, 10]\n",
      "[1, 3, 5, 6, 7, 8, 9, 10]\n",
      "[]\n"
     ]
    }
   ],
   "source": [
    " #remove (), pop(),clear()\n",
    "x=[1,2,3,4,5,6,7,8,9,10]  \n",
    "x.remove(2)\n",
    "#removes the '2'element\n",
    "print(x)\n",
    "x.pop(2)\n",
    "#pops the '2nd' index element.\n",
    "#difference bw remove and pop is that 'remove' removes the element ,  'pop' removes the the nth index elements\n",
    "print(x)\n",
    "#clear() is used to clear the list\n",
    "x.clear()\n",
    "print (x)\n",
    "\n"
   ]
  },
  {
   "cell_type": "code",
   "execution_count": 42,
   "id": "a574fd7a",
   "metadata": {},
   "outputs": [
    {
     "name": "stdout",
     "output_type": "stream",
     "text": [
      "[1, 3, 4, 5, 6, 7, 8]\n",
      "['rama rama', 3, 4, 5, 6, 7, 8]\n",
      "['rama rama', 3, 4, 5, 6, 7, 8]\n"
     ]
    }
   ],
   "source": [
    "#list assigning and list copy\n",
    "list1=[1, 3, 4, 5, 6, 7, 8]\n",
    "list2=list1\n",
    "print(list2)\n",
    "list1[0]='rama rama'\n",
    "print(list2) #list1 is assisgned to list2 ,thus when list1 is changed then the ;ist2 is also changed.\n",
    "\n",
    "#list copy() \n",
    "list3=list1.copy() #elements of list1 are copied to list3\n",
    "list1[1]='siya siya'\n",
    "print(list3) # the copied liist (list3 is cot changed because its copied list)"
   ]
  },
  {
   "cell_type": "code",
   "execution_count": 46,
   "id": "792e3050",
   "metadata": {},
   "outputs": [
    {
     "name": "stdout",
     "output_type": "stream",
     "text": [
      "i like 1\n",
      "i like 2\n",
      "i like 3\n",
      "i like 4\n",
      "i like 5\n",
      "i like 6\n",
      "i like 7\n",
      "i like 8\n",
      "i like 9\n",
      "i like 10\n"
     ]
    }
   ],
   "source": [
    "# loop in list \n",
    "x=[1,2,3,4,5,6,7,8,9,10] \n",
    "for i in x:\n",
    "\n",
    "    print(\"i like\", i)"
   ]
  },
  {
   "cell_type": "code",
   "execution_count": 47,
   "id": "a6aa56a3",
   "metadata": {},
   "outputs": [
    {
     "name": "stdout",
     "output_type": "stream",
     "text": [
      "True\n"
     ]
    }
   ],
   "source": [
    "#checking if the item is in the list\n",
    "x=[1,2,3,4,5,6,7,8,9,10]\n",
    "print(4 in x)"
   ]
  },
  {
   "cell_type": "code",
   "execution_count": 48,
   "id": "d5660625",
   "metadata": {},
   "outputs": [
    {
     "name": "stdout",
     "output_type": "stream",
     "text": [
      "8\n"
     ]
    }
   ],
   "source": [
    "#nested list\n",
    "x=[1,2,3,[4,5,6,7,8],9,10]\n",
    "print(x[3][4]) #accessing the 4rth index element of the 3rd index element i.e. a list element"
   ]
  },
  {
   "cell_type": "code",
   "execution_count": null,
   "id": "e0f56c3b",
   "metadata": {},
   "outputs": [],
   "source": []
  }
 ],
 "metadata": {
  "kernelspec": {
   "display_name": "Python 3 (ipykernel)",
   "language": "python",
   "name": "python3"
  },
  "language_info": {
   "codemirror_mode": {
    "name": "ipython",
    "version": 3
   },
   "file_extension": ".py",
   "mimetype": "text/x-python",
   "name": "python",
   "nbconvert_exporter": "python",
   "pygments_lexer": "ipython3",
   "version": "3.9.13"
  }
 },
 "nbformat": 4,
 "nbformat_minor": 5
}
