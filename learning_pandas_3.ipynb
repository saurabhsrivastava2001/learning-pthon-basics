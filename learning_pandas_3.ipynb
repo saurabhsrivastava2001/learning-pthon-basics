{
 "cells": [
  {
   "cell_type": "code",
   "execution_count": 2,
   "id": "33da3ca2",
   "metadata": {},
   "outputs": [],
   "source": [
    "#learning opening csv librabry and zip function"
   ]
  },
  {
   "cell_type": "code",
   "execution_count": 3,
   "id": "2f889991",
   "metadata": {},
   "outputs": [],
   "source": [
    "import pandas as pd\n",
    "import numpy as np"
   ]
  },
  {
   "cell_type": "code",
   "execution_count": 4,
   "id": "175402f1",
   "metadata": {},
   "outputs": [
    {
     "data": {
      "text/plain": [
       "<_io.TextIOWrapper name='C:\\\\Users\\\\prince\\\\Desktop\\\\test1\\\\ex1.csv' mode='r' encoding='cp1252'>"
      ]
     },
     "execution_count": 4,
     "metadata": {},
     "output_type": "execute_result"
    }
   ],
   "source": [
    "import pandas as pd\n",
    "#opening csv as file and using csv library\n",
    "import csv\n",
    "f= open (r'C:\\Users\\prince\\Desktop\\test1\\ex1.csv')\n",
    "f"
   ]
  },
  {
   "cell_type": "code",
   "execution_count": 5,
   "id": "8c18d722",
   "metadata": {},
   "outputs": [
    {
     "data": {
      "text/plain": [
       "<_csv.reader at 0x2533be6b700>"
      ]
     },
     "execution_count": 5,
     "metadata": {},
     "output_type": "execute_result"
    }
   ],
   "source": [
    "reader= csv.reader(f)\n",
    "reader"
   ]
  },
  {
   "cell_type": "code",
   "execution_count": 6,
   "id": "3f80d810",
   "metadata": {},
   "outputs": [
    {
     "name": "stdout",
     "output_type": "stream",
     "text": [
      "['a ', 'b', 'c', 'd', 'names']\n",
      "['1', '3', '4', '5', 'ram']\n",
      "['6', '7', '8', '9', 'radha']\n",
      "['10', '11', '12', '13', 'shyama']\n"
     ]
    }
   ],
   "source": [
    "for line in reader:\n",
    "    print (line)"
   ]
  },
  {
   "cell_type": "code",
   "execution_count": 7,
   "id": "b376d97f",
   "metadata": {},
   "outputs": [
    {
     "data": {
      "text/plain": [
       "[['a ', 'b', 'c', 'd', 'names'],\n",
       " ['1', '3', '4', '5', 'ram'],\n",
       " ['6', '7', '8', '9', 'radha'],\n",
       " ['10', '11', '12', '13', 'shyama']]"
      ]
     },
     "execution_count": 7,
     "metadata": {},
     "output_type": "execute_result"
    }
   ],
   "source": [
    "#another way to do this operation --------------with as method\n",
    "with open (r'C:\\Users\\prince\\Desktop\\test1\\ex1.csv') as f:\n",
    "        lines= list (csv.reader(f))\n",
    "lines"
   ]
  },
  {
   "cell_type": "code",
   "execution_count": 26,
   "id": "af6c89ec",
   "metadata": {},
   "outputs": [
    {
     "name": "stdout",
     "output_type": "stream",
     "text": [
      "<zip object at 0x000002533BE866C0>\n",
      "(['1', '3', '4', '5', 'ram'],)\n",
      "(['6', '7', '8', '9', 'radha'],)\n",
      "(['10', '11', '12', '13', 'shyama'],)\n"
     ]
    }
   ],
   "source": [
    "#learning zip function:----creates pairs of the data-set passed to it:we pass two comma sepeated values to zip function\n",
    "#let\n",
    "\n",
    "header,values= lines[0],lines[1:]\n",
    "z=zip(values)\n",
    "print(z)\n",
    "for i in z :\n",
    "    print (i)"
   ]
  },
  {
   "cell_type": "code",
   "execution_count": 27,
   "id": "8c708baa",
   "metadata": {},
   "outputs": [
    {
     "name": "stdout",
     "output_type": "stream",
     "text": [
      "(['1', '3', '4', '5', 'ram'],)\n",
      "(['6', '7', '8', '9', 'radha'],)\n",
      "(['10', '11', '12', '13', 'shyama'],)\n"
     ]
    }
   ],
   "source": [
    "#if we have a value with multiple lists it will be needing \n",
    "for i in zip(values):\n",
    "    print(i)"
   ]
  },
  {
   "cell_type": "code",
   "execution_count": 28,
   "id": "de0c72bd",
   "metadata": {},
   "outputs": [
    {
     "name": "stdout",
     "output_type": "stream",
     "text": [
      "('1', '6', '10')\n",
      "('3', '7', '11')\n",
      "('4', '8', '12')\n",
      "('5', '9', '13')\n",
      "('ram', 'radha', 'shyama')\n"
     ]
    }
   ],
   "source": [
    "#using *values\n",
    "for i in zip(*values):\n",
    "    print (i)\n"
   ]
  },
  {
   "cell_type": "code",
   "execution_count": 29,
   "id": "00b5f4d2",
   "metadata": {},
   "outputs": [
    {
     "name": "stdout",
     "output_type": "stream",
     "text": [
      "('a ', ('1', '6', '10'))\n",
      "('b', ('3', '7', '11'))\n",
      "('c', ('4', '8', '12'))\n",
      "('d', ('5', '9', '13'))\n",
      "('names', ('ram', 'radha', 'shyama'))\n"
     ]
    }
   ],
   "source": [
    "for i in zip(header , zip(*values)):\n",
    "    print (i)"
   ]
  },
  {
   "cell_type": "code",
   "execution_count": 31,
   "id": "9a771d40",
   "metadata": {},
   "outputs": [
    {
     "data": {
      "text/plain": [
       "{'a ': ('1', '6', '10'),\n",
       " 'b': ('3', '7', '11'),\n",
       " 'c': ('4', '8', '12'),\n",
       " 'd': ('5', '9', '13'),\n",
       " 'names': ('ram', 'radha', 'shyama')}"
      ]
     },
     "execution_count": 31,
     "metadata": {},
     "output_type": "execute_result"
    }
   ],
   "source": [
    "#dictionary comprehension:\n",
    "#treat one value as key and other as data:\n",
    "data_list={h:v for h,v in zip(header ,zip(*values))}\n",
    "data_list"
   ]
  },
  {
   "cell_type": "code",
   "execution_count": 34,
   "id": "de820e70",
   "metadata": {},
   "outputs": [
    {
     "data": {
      "text/plain": [
       "{'a ': ('1', '6', '10'),\n",
       " 'b': ('3', '7', '11'),\n",
       " 'c': ('4', '8', '12'),\n",
       " 'd': ('5', '9', '13'),\n",
       " 'names': ('ram', 'radha', 'shyama')}"
      ]
     },
     "execution_count": 34,
     "metadata": {},
     "output_type": "execute_result"
    }
   ],
   "source": [
    "#same\n",
    "d={}\n",
    "for i in zip(header,zip(*values)):\n",
    "    d[i[0]]=i[1]\n",
    "d    "
   ]
  },
  {
   "cell_type": "code",
   "execution_count": null,
   "id": "a1ddf04f",
   "metadata": {},
   "outputs": [],
   "source": []
  }
 ],
 "metadata": {
  "kernelspec": {
   "display_name": "Python 3 (ipykernel)",
   "language": "python",
   "name": "python3"
  },
  "language_info": {
   "codemirror_mode": {
    "name": "ipython",
    "version": 3
   },
   "file_extension": ".py",
   "mimetype": "text/x-python",
   "name": "python",
   "nbconvert_exporter": "python",
   "pygments_lexer": "ipython3",
   "version": "3.9.13"
  }
 },
 "nbformat": 4,
 "nbformat_minor": 5
}
