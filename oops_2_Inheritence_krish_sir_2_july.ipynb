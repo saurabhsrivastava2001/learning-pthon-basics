{
 "cells": [
  {
   "cell_type": "code",
   "execution_count": 2,
   "id": "39fdeadb",
   "metadata": {},
   "outputs": [],
   "source": [
    "#inheritance classes"
   ]
  },
  {
   "cell_type": "code",
   "execution_count": 3,
   "id": "c3faf229",
   "metadata": {},
   "outputs": [],
   "source": [
    "class Person:\n",
    "    def __init__(self,name):\n",
    "        self.name=name\n",
    "    def display_info(self):\n",
    "        print(f\"name is :{self.name}\")"
   ]
  },
  {
   "cell_type": "code",
   "execution_count": 4,
   "id": "4d4cd97d",
   "metadata": {},
   "outputs": [],
   "source": [
    "class student(Person):\n",
    "    def __init__(self,name,grade):\n",
    "        super().__init__(name)\n",
    "        self.grade=grade\n",
    "        \n",
    "    def display_info(self):\n",
    "        super().display_info()\n",
    "        print(f\"grade is {self.grade}\")"
   ]
  },
  {
   "cell_type": "code",
   "execution_count": 6,
   "id": "98e37298",
   "metadata": {},
   "outputs": [
    {
     "name": "stdout",
     "output_type": "stream",
     "text": [
      "name is :saurabh\n",
      "grade is A\n"
     ]
    }
   ],
   "source": [
    "student1=student(\"saurabh\",\"A\")\n",
    "student.display_info()"
   ]
  },
  {
   "cell_type": "code",
   "execution_count": 14,
   "id": "b4494fbd",
   "metadata": {},
   "outputs": [],
   "source": [
    "class teacher(Person):\n",
    "    def __init__(self,name,subject):\n",
    "        super().__init__(name)\n",
    "        self.subject=subject\n",
    "    \n",
    "    def display_info(self):\n",
    "        super().display_info()\n",
    "        print (f\"subject teach is :{self.subject}\")"
   ]
  },
  {
   "cell_type": "code",
   "execution_count": 15,
   "id": "fa7d3e07",
   "metadata": {},
   "outputs": [
    {
     "name": "stdout",
     "output_type": "stream",
     "text": [
      "name is :Krish\n",
      "subject teach is :oops\n"
     ]
    }
   ],
   "source": [
    "teacher1=teacher(\"Krish\",\"oops\")\n",
    "teacher1.display_info()"
   ]
  },
  {
   "cell_type": "code",
   "execution_count": 26,
   "id": "fbf516b5",
   "metadata": {},
   "outputs": [],
   "source": [
    "class vehicle:\n",
    "    def __init__(self,name,model,brand):\n",
    "        self.name=name\n",
    "        self.model=model\n",
    "        self.brand=brand\n",
    "        \n",
    "    def start(self):\n",
    "        print(f\"vehicle {self.name} is started\")\n",
    "        "
   ]
  },
  {
   "cell_type": "code",
   "execution_count": 30,
   "id": "f0c06196",
   "metadata": {},
   "outputs": [],
   "source": [
    "class bicycle(vehicle):\n",
    "    def __init__(self,name,model,brand):\n",
    "        super().__init__(name,model,brand)\n",
    "        \n",
    "    def start(self):\n",
    "        super().start()\n",
    "        print (f\"my {self.name} model {self.model} of {self.brand} is really fast\")"
   ]
  },
  {
   "cell_type": "code",
   "execution_count": 31,
   "id": "116d9d3c",
   "metadata": {},
   "outputs": [],
   "source": [
    "class  car(vehicle):\n",
    "    def __init__(self,name,model,brand):\n",
    "        super().__init__(name,model,brand)\n",
    "        \n",
    "    def start(self):\n",
    "        super().start()\n",
    "        print(f\"my {self.name}, is a {self.model} of{self.brand} sounds likeee whoooo\")\n",
    "        "
   ]
  },
  {
   "cell_type": "code",
   "execution_count": 32,
   "id": "9e8aca0a",
   "metadata": {},
   "outputs": [
    {
     "name": "stdout",
     "output_type": "stream",
     "text": [
      "vehicle bike is started\n",
      "my bike model ninja of ferrari is really fast\n",
      "vehicle car is started\n",
      "my car, is a s class oflemousine sounds likeee whoooo\n"
     ]
    }
   ],
   "source": [
    "bike1=bicycle(\"bike\",\"ninja\",\"ferrari\")\n",
    "bike1.start()\n",
    "car1=car(\"car\",\"s class\" ,\"lemousine\")\n",
    "car1.start()"
   ]
  },
  {
   "cell_type": "code",
   "execution_count": 33,
   "id": "e53201ac",
   "metadata": {},
   "outputs": [],
   "source": [
    "class animal:\n",
    "    def __init__(self,name):\n",
    "        self.name=name\n",
    "    def sound(self):\n",
    "        pass\n",
    "    \n",
    "    "
   ]
  },
  {
   "cell_type": "code",
   "execution_count": 35,
   "id": "0642cb79",
   "metadata": {},
   "outputs": [],
   "source": [
    "class Dog(animal):\n",
    "    def __init__(self,name):\n",
    "        super().__init__(name)\n",
    "    def sound(self):\n",
    "        super().sound()\n",
    "        print(f\"my {self.name}, barks\")\n",
    "              \n",
    "          "
   ]
  },
  {
   "cell_type": "code",
   "execution_count": 36,
   "id": "559fa0e4",
   "metadata": {},
   "outputs": [],
   "source": [
    "class Cat(animal):\n",
    "    def __init__(self,name):\n",
    "        super().__init__(name)\n",
    "    def sound(self):\n",
    "        super().sound()\n",
    "        print(f\"my {self.name}, mews\")\n",
    "              "
   ]
  },
  {
   "cell_type": "code",
   "execution_count": 38,
   "id": "a4228923",
   "metadata": {},
   "outputs": [
    {
     "name": "stdout",
     "output_type": "stream",
     "text": [
      "my mike, mews\n",
      "my john, barks\n"
     ]
    }
   ],
   "source": [
    "cat1=Cat(\"mike\")\n",
    "cat1.sound()\n",
    "\n",
    "dog1=Dog(\"john\")\n",
    "dog1.sound()"
   ]
  },
  {
   "cell_type": "code",
   "execution_count": null,
   "id": "7772db01",
   "metadata": {},
   "outputs": [],
   "source": []
  }
 ],
 "metadata": {
  "kernelspec": {
   "display_name": "Python 3 (ipykernel)",
   "language": "python",
   "name": "python3"
  },
  "language_info": {
   "codemirror_mode": {
    "name": "ipython",
    "version": 3
   },
   "file_extension": ".py",
   "mimetype": "text/x-python",
   "name": "python",
   "nbconvert_exporter": "python",
   "pygments_lexer": "ipython3",
   "version": "3.9.13"
  }
 },
 "nbformat": 4,
 "nbformat_minor": 5
}
