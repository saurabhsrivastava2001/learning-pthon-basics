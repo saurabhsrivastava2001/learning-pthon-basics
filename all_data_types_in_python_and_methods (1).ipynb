{
 "cells": [
  {
   "cell_type": "markdown",
   "id": "7f2adfe5",
   "metadata": {},
   "source": [
    "### data types in python "
   ]
  },
  {
   "cell_type": "code",
   "execution_count": 1,
   "id": "ebe66764",
   "metadata": {},
   "outputs": [],
   "source": [
    "#stacks-- last iin first out\n",
    "\n",
    "stack = [\"john\" , \"jim\"]\n",
    "stack.append(\"allen\")"
   ]
  },
  {
   "cell_type": "code",
   "execution_count": 2,
   "id": "d62e45da",
   "metadata": {},
   "outputs": [
    {
     "data": {
      "text/plain": [
       "['john', 'jim', 'allen']"
      ]
     },
     "execution_count": 2,
     "metadata": {},
     "output_type": "execute_result"
    }
   ],
   "source": [
    "stack\n"
   ]
  },
  {
   "cell_type": "code",
   "execution_count": 3,
   "id": "91748de6",
   "metadata": {},
   "outputs": [
    {
     "data": {
      "text/plain": [
       "'allen'"
      ]
     },
     "execution_count": 3,
     "metadata": {},
     "output_type": "execute_result"
    }
   ],
   "source": [
    "stack.pop()"
   ]
  },
  {
   "cell_type": "code",
   "execution_count": 4,
   "id": "bdce7ed7",
   "metadata": {},
   "outputs": [
    {
     "data": {
      "text/plain": [
       "['john', 'jim']"
      ]
     },
     "execution_count": 4,
     "metadata": {},
     "output_type": "execute_result"
    }
   ],
   "source": [
    "stack"
   ]
  },
  {
   "cell_type": "code",
   "execution_count": 18,
   "id": "f93864e5",
   "metadata": {},
   "outputs": [
    {
     "data": {
      "text/plain": [
       "deque(['john', 'jim', 'allen'])"
      ]
     },
     "execution_count": 18,
     "metadata": {},
     "output_type": "execute_result"
    }
   ],
   "source": [
    "#first in first out--- queue----popleft\n",
    "\n",
    "from collections import deque\n",
    "queue =deque([\"john\",\"jim\",\"allen\"]) \n",
    "queue"
   ]
  },
  {
   "cell_type": "code",
   "execution_count": 19,
   "id": "bc2be6e7",
   "metadata": {},
   "outputs": [
    {
     "data": {
      "text/plain": [
       "'john'"
      ]
     },
     "execution_count": 19,
     "metadata": {},
     "output_type": "execute_result"
    }
   ],
   "source": [
    "queue.popleft()\n"
   ]
  },
  {
   "cell_type": "code",
   "execution_count": 20,
   "id": "341ff37b",
   "metadata": {},
   "outputs": [
    {
     "data": {
      "text/plain": [
       "deque(['jim', 'allen'])"
      ]
     },
     "execution_count": 20,
     "metadata": {},
     "output_type": "execute_result"
    }
   ],
   "source": [
    "queue"
   ]
  },
  {
   "cell_type": "code",
   "execution_count": 21,
   "id": "71a09ea3",
   "metadata": {},
   "outputs": [],
   "source": [
    "#touple ______cant append but get the element (((immutable)))"
   ]
  },
  {
   "cell_type": "code",
   "execution_count": 27,
   "id": "758d8c15",
   "metadata": {},
   "outputs": [],
   "source": [
    "#set ---- \n",
    "my_set= {\"allen\", \"jim\",\"jim\", \"john\",\"miky\", \"cena\"}"
   ]
  },
  {
   "cell_type": "code",
   "execution_count": 28,
   "id": "7755f704",
   "metadata": {},
   "outputs": [
    {
     "data": {
      "text/plain": [
       "{'allen', 'cena', 'jim', 'john', 'miky'}"
      ]
     },
     "execution_count": 28,
     "metadata": {},
     "output_type": "execute_result"
    }
   ],
   "source": [
    "my_set #unodered , unrepeted"
   ]
  },
  {
   "cell_type": "code",
   "execution_count": 29,
   "id": "f0c4fccc",
   "metadata": {},
   "outputs": [
    {
     "data": {
      "text/plain": [
       "{'allen', 'cena', 'jim', 'john', 'miky'}"
      ]
     },
     "execution_count": 29,
     "metadata": {},
     "output_type": "execute_result"
    }
   ],
   "source": [
    "#to create a set\n",
    "a_list=[\"allen\", \"jim\",\"jim\", \"john\",\"miky\", \"cena\"]\n",
    "a= set(a_list)\n",
    "a"
   ]
  },
  {
   "cell_type": "code",
   "execution_count": 30,
   "id": "5922c275",
   "metadata": {},
   "outputs": [
    {
     "data": {
      "text/plain": [
       "True"
      ]
     },
     "execution_count": 30,
     "metadata": {},
     "output_type": "execute_result"
    }
   ],
   "source": [
    "#if we want to check if anythoing oin my set then we will do \"in\"\n",
    "\"john\" in a"
   ]
  },
  {
   "cell_type": "code",
   "execution_count": 31,
   "id": "18e62551",
   "metadata": {},
   "outputs": [
    {
     "data": {
      "text/plain": [
       "False"
      ]
     },
     "execution_count": 31,
     "metadata": {},
     "output_type": "execute_result"
    }
   ],
   "source": [
    "\"jack\" in a\n"
   ]
  },
  {
   "cell_type": "code",
   "execution_count": 33,
   "id": "7947480a",
   "metadata": {},
   "outputs": [
    {
     "data": {
      "text/plain": [
       "{'h', 'n', 'o', 'p', 't', 'y'}"
      ]
     },
     "execution_count": 33,
     "metadata": {},
     "output_type": "execute_result"
    }
   ],
   "source": [
    "#   set() method ______________ if we give any word if will split it inn its letters uodered\n",
    "\n",
    "set(\"python\")"
   ]
  },
  {
   "cell_type": "code",
   "execution_count": 34,
   "id": "aeb672fd",
   "metadata": {},
   "outputs": [
    {
     "data": {
      "text/plain": [
       "{'c', 'd', 'e'}"
      ]
     },
     "execution_count": 34,
     "metadata": {},
     "output_type": "execute_result"
    }
   ],
   "source": [
    "set1=set(\"abc\")\n",
    "set2=set(\"cde\")\n",
    "\n",
    "set1\n",
    "set2"
   ]
  },
  {
   "cell_type": "code",
   "execution_count": 35,
   "id": "5795a40f",
   "metadata": {},
   "outputs": [
    {
     "data": {
      "text/plain": [
       "{'c'}"
      ]
     },
     "execution_count": 35,
     "metadata": {},
     "output_type": "execute_result"
    }
   ],
   "source": [
    "#we can check which leters in commen:\n",
    "set1.intersection(set2)"
   ]
  },
  {
   "cell_type": "code",
   "execution_count": 36,
   "id": "61b9f134",
   "metadata": {},
   "outputs": [
    {
     "data": {
      "text/plain": [
       "{'a', 'b', 'c', 'd', 'e'}"
      ]
     },
     "execution_count": 36,
     "metadata": {},
     "output_type": "execute_result"
    }
   ],
   "source": [
    "#we can also use union method too----------\n",
    "set1.union(set2)"
   ]
  },
  {
   "cell_type": "code",
   "execution_count": 40,
   "id": "88323955",
   "metadata": {},
   "outputs": [
    {
     "data": {
      "text/plain": [
       "{'d', 'e'}"
      ]
     },
     "execution_count": 40,
     "metadata": {},
     "output_type": "execute_result"
    }
   ],
   "source": [
    "#we can also get ifferences bw them\n",
    "set1.difference(set2)\n",
    "set2.difference(set1)"
   ]
  },
  {
   "cell_type": "code",
   "execution_count": 42,
   "id": "6c2a78c2",
   "metadata": {},
   "outputs": [
    {
     "data": {
      "text/plain": [
       "{'a', 'b', 'd', 'e'}"
      ]
     },
     "execution_count": 42,
     "metadata": {},
     "output_type": "execute_result"
    }
   ],
   "source": [
    "#symmetric difference____________gives everythgng expect common\n",
    "\n",
    "set1.symmetric_difference(set2)"
   ]
  },
  {
   "cell_type": "code",
   "execution_count": 43,
   "id": "aa610d80",
   "metadata": {},
   "outputs": [
    {
     "data": {
      "text/plain": [
       "{'name': 'jim', 'age': 25}"
      ]
     },
     "execution_count": 43,
     "metadata": {},
     "output_type": "execute_result"
    }
   ],
   "source": [
    "#dictionary\n",
    "person = {\"name\":\"jim\",\"age\":25}\n",
    "person"
   ]
  },
  {
   "cell_type": "code",
   "execution_count": 44,
   "id": "de5f8309",
   "metadata": {},
   "outputs": [
    {
     "data": {
      "text/plain": [
       "'jim'"
      ]
     },
     "execution_count": 44,
     "metadata": {},
     "output_type": "execute_result"
    }
   ],
   "source": [
    "person[\"name\"]"
   ]
  },
  {
   "cell_type": "code",
   "execution_count": 46,
   "id": "3a77f065",
   "metadata": {},
   "outputs": [
    {
     "data": {
      "text/plain": [
       "['name', 'age']"
      ]
     },
     "execution_count": 46,
     "metadata": {},
     "output_type": "execute_result"
    }
   ],
   "source": [
    "\n",
    "#keys\n",
    "list(person.keys())"
   ]
  },
  {
   "cell_type": "code",
   "execution_count": 47,
   "id": "fba68d8d",
   "metadata": {},
   "outputs": [
    {
     "data": {
      "text/plain": [
       "dict_values(['jim', 25])"
      ]
     },
     "execution_count": 47,
     "metadata": {},
     "output_type": "execute_result"
    }
   ],
   "source": [
    "#values\n",
    "person.values()"
   ]
  },
  {
   "cell_type": "code",
   "execution_count": 51,
   "id": "c1bb2ace",
   "metadata": {},
   "outputs": [
    {
     "data": {
      "text/plain": [
       "[('name', 'jim'), ('age', 25)]"
      ]
     },
     "execution_count": 51,
     "metadata": {},
     "output_type": "execute_result"
    }
   ],
   "source": [
    "list(person.items())"
   ]
  },
  {
   "cell_type": "code",
   "execution_count": 55,
   "id": "6490d7ad",
   "metadata": {},
   "outputs": [
    {
     "name": "stdout",
     "output_type": "stream",
     "text": [
      "the key name is attached to the value jim\n",
      "the key age is attached to the value 25\n"
     ]
    }
   ],
   "source": [
    "for key,value in person.items():\n",
    "    print(f\"the key {key} is attached to the value {value}\")"
   ]
  },
  {
   "cell_type": "code",
   "execution_count": 56,
   "id": "5b6cbd4d",
   "metadata": {},
   "outputs": [
    {
     "data": {
      "text/plain": [
       "{'name': 'jim', 'age': 25, 'is_male': True}"
      ]
     },
     "execution_count": 56,
     "metadata": {},
     "output_type": "execute_result"
    }
   ],
   "source": [
    "#update existing dictionary\n",
    "\n",
    "more_info={\"is_male\": True}\n",
    "person.update(more_info)\n",
    "person"
   ]
  },
  {
   "cell_type": "code",
   "execution_count": 58,
   "id": "b18ccf4f",
   "metadata": {},
   "outputs": [
    {
     "data": {
      "text/plain": [
       "{}"
      ]
     },
     "execution_count": 58,
     "metadata": {},
     "output_type": "execute_result"
    }
   ],
   "source": [
    "#to clear:\n",
    "person.clear()\n",
    "person"
   ]
  },
  {
   "cell_type": "code",
   "execution_count": null,
   "id": "fa6b83d2",
   "metadata": {},
   "outputs": [],
   "source": []
  }
 ],
 "metadata": {
  "kernelspec": {
   "display_name": "Python 3 (ipykernel)",
   "language": "python",
   "name": "python3"
  },
  "language_info": {
   "codemirror_mode": {
    "name": "ipython",
    "version": 3
   },
   "file_extension": ".py",
   "mimetype": "text/x-python",
   "name": "python",
   "nbconvert_exporter": "python",
   "pygments_lexer": "ipython3",
   "version": "3.9.13"
  }
 },
 "nbformat": 4,
 "nbformat_minor": 5
}
