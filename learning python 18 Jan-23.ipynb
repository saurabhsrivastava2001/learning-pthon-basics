{
 "cells": [
  {
   "cell_type": "code",
   "execution_count": 7,
   "id": "e8633d49",
   "metadata": {
    "scrolled": true
   },
   "outputs": [
    {
     "name": "stdout",
     "output_type": "stream",
     "text": [
      "(1, 2, 3)\n",
      "('hello',)\n"
     ]
    },
    {
     "data": {
      "text/plain": [
       "tuple"
      ]
     },
     "execution_count": 7,
     "metadata": {},
     "output_type": "execute_result"
    }
   ],
   "source": [
    "#learning tuples \n",
    "my_tuple=(1,2,3)\n",
    "print(my_tuple)\n",
    "#tuple haviing single item\n",
    "t1=(\"hello\",) #single items ned comma following to them\n",
    "print(t1)\n",
    "type(t1)\n",
    "#tuples can also have no paranthesis\n",
    "t2= 1,2,3\n",
    "type (t2)"
   ]
  },
  {
   "cell_type": "code",
   "execution_count": 9,
   "id": "a3341d45",
   "metadata": {},
   "outputs": [
    {
     "name": "stdout",
     "output_type": "stream",
     "text": [
      "4\n",
      "2\n"
     ]
    }
   ],
   "source": [
    "#acccessing tuple elements  by--- tuplee[index]\n",
    "my_tuple=(1,2,3,4,5,6)\n",
    "print(my_tuple[3]) #accessing the 3rd index element of the tuple \n",
    "#negetive indeing is also allowwed (-1 to -n)\n",
    "print(my_tuple[-5])"
   ]
  },
  {
   "cell_type": "code",
   "execution_count": 10,
   "id": "13ed7930",
   "metadata": {},
   "outputs": [
    {
     "name": "stdout",
     "output_type": "stream",
     "text": [
      "(2, 3)\n"
     ]
    }
   ],
   "source": [
    "# slicing the tuple is same as the slicing of a list---- my-tuple[a:b]====only have the elements *(a to b-1)* index-wise\n",
    "my_tuple=(1,2,3,4,5,6)\n",
    "print(my_tuple[1:3])"
   ]
  },
  {
   "cell_type": "code",
   "execution_count": 11,
   "id": "12238d36",
   "metadata": {},
   "outputs": [
    {
     "name": "stdout",
     "output_type": "stream",
     "text": [
      "(1, 2, ['ram', 4, 5], 6)\n"
     ]
    }
   ],
   "source": [
    "#  changing the tuple element---\n",
    "#  --tuple elements sre unchangable\n",
    "#  but if a tuple contains list , list elements can be changed \n",
    "my_tuple=(1,2,[3,4,5],6)\n",
    "my_tuple[2][0]= 'ram'\n",
    "print(my_tuple)"
   ]
  },
  {
   "cell_type": "code",
   "execution_count": 13,
   "id": "584d9399",
   "metadata": {},
   "outputs": [
    {
     "name": "stdout",
     "output_type": "stream",
     "text": [
      "(1, 2, 3, 4, 5, 6)\n",
      "(1, 2, 3, 1, 2, 3)\n"
     ]
    }
   ],
   "source": [
    "# using + and * operators(same as lists)\n",
    "my_tuple=(1,2,3)\n",
    "print(my_tuple +(4,5,6))\n",
    "print(my_tuple*2)"
   ]
  },
  {
   "cell_type": "code",
   "execution_count": 3,
   "id": "d2bb20f1",
   "metadata": {},
   "outputs": [],
   "source": [
    "#deleting tuple element\n",
    "my_tuple=(1,2,3,4,5,6)\n",
    "del my_tuple #we cant delete the tuple element but we can delete the tuple itself"
   ]
  },
  {
   "cell_type": "code",
   "execution_count": 6,
   "id": "d88c0ff2",
   "metadata": {},
   "outputs": [
    {
     "name": "stdout",
     "output_type": "stream",
     "text": [
      "2\n",
      "4\n"
     ]
    }
   ],
   "source": [
    "#tuple methods \n",
    "#add,remoe mehods ae not avalible in tuple but we have  methods like------count(x) and index(x)\n",
    "\n",
    "my_tuple=(1,2,3,1,4,5,6)\n",
    "\n",
    "#count()\n",
    "print(my_tuple.count(1))\n",
    "\n",
    "#index()\n",
    "print( my_tuple.index(4))"
   ]
  },
  {
   "cell_type": "code",
   "execution_count": 9,
   "id": "71032db8",
   "metadata": {
    "scrolled": true
   },
   "outputs": [
    {
     "name": "stdout",
     "output_type": "stream",
     "text": [
      "True\n",
      "1 *5= 5\n",
      "2 *5= 10\n",
      "3 *5= 15\n",
      "4 *5= 20\n",
      "5 *5= 25\n",
      "6 *5= 30\n"
     ]
    }
   ],
   "source": [
    "#other tuple operations\n",
    "#checking if an element is present in the tuple or not\n",
    "my_tuple=(1,2,3,4,5,6)\n",
    "print(6 in my_tuple)\n",
    "\n",
    "#iteration thrugh tuple\n",
    "for i in my_tuple:\n",
    "    print (i,\"*5=\",i*5)"
   ]
  },
  {
   "cell_type": "code",
   "execution_count": 14,
   "id": "6571b1b6",
   "metadata": {},
   "outputs": [
    {
     "name": "stdout",
     "output_type": "stream",
     "text": [
      "hello\n",
      "hello\n",
      "hello\n",
      "(hello !\n",
      "this is example of mltiline string.)\n"
     ]
    }
   ],
   "source": [
    "#revising strings in python\n",
    "my_str = 'hello'\n",
    "my_str2 = \"hello\"\n",
    "my_str3 ='''hello'''\n",
    "my_str4 = \"\"\"(hello !\n",
    "this is example of mltiline string.)\"\"\"\n",
    "print(my_str)\n",
    "print(my_str2)\n",
    "print(my_str3)\n",
    "print(my_str4)"
   ]
  },
  {
   "cell_type": "code",
   "execution_count": 18,
   "id": "ff7e3f07",
   "metadata": {},
   "outputs": [
    {
     "name": "stdout",
     "output_type": "stream",
     "text": [
      "h\n",
      "e o\n"
     ]
    }
   ],
   "source": [
    "#accessing the string elements\n",
    "#first character\n",
    "my_str2 = \"hello\"\n",
    "print( my_str2[0])\n",
    "\n",
    "#negetive indexing is allowed in accesssing strings\n",
    "print(my_str2[-4],my_str2[-1])"
   ]
  },
  {
   "cell_type": "code",
   "execution_count": 19,
   "id": "d22a8b86",
   "metadata": {},
   "outputs": [
    {
     "name": "stdout",
     "output_type": "stream",
     "text": [
      "au\n"
     ]
    }
   ],
   "source": [
    "#sliocing of a string \n",
    "#we canget a range of characters from a string slice----a:b--(ath to b-1th characretr of a string ) \n",
    "\n",
    "my_str=(\"saurabh\")\n",
    "print(my_str[1:3])"
   ]
  },
  {
   "cell_type": "code",
   "execution_count": 22,
   "id": "e62e1314",
   "metadata": {},
   "outputs": [
    {
     "data": {
      "text/plain": [
       "()"
      ]
     },
     "execution_count": 22,
     "metadata": {},
     "output_type": "execute_result"
    }
   ],
   "source": [
    "#deleting a string\n",
    "my_str=(\"saurabh\")\n",
    "del my_str \n",
    "#we can't delete items individually\n"
   ]
  },
  {
   "cell_type": "code",
   "execution_count": 25,
   "id": "b3a54ba4",
   "metadata": {},
   "outputs": [
    {
     "name": "stdout",
     "output_type": "stream",
     "text": [
      "saurabh srivastava \n",
      "saurabh srivastava saurabh srivastava saurabh srivastava \n"
     ]
    }
   ],
   "source": [
    "#comcatnation of a string\n",
    "f_name= 'saurabh'\n",
    "l_name= 'srivastava'\n",
    "full_name=f_name + ' ' +l_name +' '\n",
    "print(full_name)\n",
    "\n",
    "#repetition of a string by * \n",
    "print (full_name *3)"
   ]
  },
  {
   "cell_type": "code",
   "execution_count": 27,
   "id": "060a98c0",
   "metadata": {},
   "outputs": [
    {
     "name": "stdout",
     "output_type": "stream",
     "text": [
      "2  times 'p' found\n"
     ]
    }
   ],
   "source": [
    "#iteration through strings\n",
    "\n",
    "#program to finf the number of times the letter 'p' in papaya\n",
    "x= 'papaya'\n",
    "count=0\n",
    "for i in x:\n",
    "    if i=='p' :\n",
    "        count+=1\n",
    "print (count, \" times 'p' found\")"
   ]
  },
  {
   "cell_type": "code",
   "execution_count": 29,
   "id": "edf9bcb2",
   "metadata": {},
   "outputs": [
    {
     "name": "stdout",
     "output_type": "stream",
     "text": [
      "False\n",
      "True\n"
     ]
    }
   ],
   "source": [
    "#cheecking whether the substring exists!\n",
    "print( 'a' in 'hello')\n",
    "print( 'lo' in 'hello')"
   ]
  },
  {
   "cell_type": "code",
   "execution_count": 35,
   "id": "fadb0629",
   "metadata": {},
   "outputs": [
    {
     "name": "stdout",
     "output_type": "stream",
     "text": [
      "PAPAYA\n",
      "papaya\n",
      "['papaya']\n"
     ]
    }
   ],
   "source": [
    "#few sring methods\n",
    "x= 'papaya'\n",
    "y=x.upper()\n",
    "print(y)\n",
    "z=y.lower()\n",
    "print(z)\n",
    "a=x.split()\n",
    "print(a)"
   ]
  },
  {
   "cell_type": "code",
   "execution_count": null,
   "id": "d0f88b5c",
   "metadata": {},
   "outputs": [],
   "source": []
  }
 ],
 "metadata": {
  "kernelspec": {
   "display_name": "Python 3 (ipykernel)",
   "language": "python",
   "name": "python3"
  },
  "language_info": {
   "codemirror_mode": {
    "name": "ipython",
    "version": 3
   },
   "file_extension": ".py",
   "mimetype": "text/x-python",
   "name": "python",
   "nbconvert_exporter": "python",
   "pygments_lexer": "ipython3",
   "version": "3.9.13"
  }
 },
 "nbformat": 4,
 "nbformat_minor": 5
}
