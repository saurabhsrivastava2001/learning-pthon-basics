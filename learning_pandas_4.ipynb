{
 "cells": [
  {
   "cell_type": "code",
   "execution_count": 45,
   "id": "b391f7a6",
   "metadata": {},
   "outputs": [],
   "source": [
    "import pandas as pd\n",
    "import numpy as np"
   ]
  },
  {
   "cell_type": "code",
   "execution_count": 46,
   "id": "ccb1b6b0",
   "metadata": {},
   "outputs": [],
   "source": [
    "obj=\"\"\"{\"name\":\"wes\",\n",
    "        \"places_lived\":[\"uk\",\"usa\",\"china\"],\n",
    "        \"pet\":null,\n",
    "       \" siblings\":[{\"name1\":\"scott\",\"age\":30},\n",
    "                    {\"name2\":\"katie\",\"age\":38}]\n",
    "        }\"\"\""
   ]
  },
  {
   "cell_type": "code",
   "execution_count": 47,
   "id": "7d61be50",
   "metadata": {},
   "outputs": [
    {
     "data": {
      "text/plain": [
       "{'name': 'wes',\n",
       " 'places_lived': ['uk', 'usa', 'china'],\n",
       " 'pet': None,\n",
       " ' siblings': [{'name1': 'scott', 'age': 30}, {'name2': 'katie', 'age': 38}]}"
      ]
     },
     "execution_count": 47,
     "metadata": {},
     "output_type": "execute_result"
    }
   ],
   "source": [
    "import json\n",
    "result = json.loads(obj)\n",
    "result"
   ]
  },
  {
   "cell_type": "code",
   "execution_count": 48,
   "id": "1ccb2414",
   "metadata": {},
   "outputs": [
    {
     "data": {
      "text/plain": [
       "dict"
      ]
     },
     "execution_count": 48,
     "metadata": {},
     "output_type": "execute_result"
    }
   ],
   "source": [
    "type(result)"
   ]
  },
  {
   "cell_type": "code",
   "execution_count": 49,
   "id": "9eeb5421",
   "metadata": {},
   "outputs": [
    {
     "data": {
      "text/plain": [
       "'{\"name\": \"wes\", \"places_lived\": [\"uk\", \"usa\", \"china\"], \"pet\": null, \" siblings\": [{\"name1\": \"scott\", \"age\": 30}, {\"name2\": \"katie\", \"age\": 38}]}'"
      ]
     },
     "execution_count": 49,
     "metadata": {},
     "output_type": "execute_result"
    }
   ],
   "source": [
    "#convert a dict to json\n",
    "asjson = json.dumps(result)\n",
    "asjson"
   ]
  },
  {
   "cell_type": "code",
   "execution_count": 56,
   "id": "384ba249",
   "metadata": {},
   "outputs": [
    {
     "data": {
      "text/plain": [
       "['uk', 'usa', 'china']"
      ]
     },
     "execution_count": 56,
     "metadata": {},
     "output_type": "execute_result"
    }
   ],
   "source": [
    "#converting json to dataframe\n",
    "result[\"places_lived\"]"
   ]
  },
  {
   "cell_type": "code",
   "execution_count": 57,
   "id": "8fd896d0",
   "metadata": {},
   "outputs": [
    {
     "data": {
      "text/html": [
       "<div>\n",
       "<style scoped>\n",
       "    .dataframe tbody tr th:only-of-type {\n",
       "        vertical-align: middle;\n",
       "    }\n",
       "\n",
       "    .dataframe tbody tr th {\n",
       "        vertical-align: top;\n",
       "    }\n",
       "\n",
       "    .dataframe thead th {\n",
       "        text-align: right;\n",
       "    }\n",
       "</style>\n",
       "<table border=\"1\" class=\"dataframe\">\n",
       "  <thead>\n",
       "    <tr style=\"text-align: right;\">\n",
       "      <th></th>\n",
       "      <th>0</th>\n",
       "    </tr>\n",
       "  </thead>\n",
       "  <tbody>\n",
       "    <tr>\n",
       "      <th>0</th>\n",
       "      <td>uk</td>\n",
       "    </tr>\n",
       "    <tr>\n",
       "      <th>1</th>\n",
       "      <td>usa</td>\n",
       "    </tr>\n",
       "    <tr>\n",
       "      <th>2</th>\n",
       "      <td>china</td>\n",
       "    </tr>\n",
       "  </tbody>\n",
       "</table>\n",
       "</div>"
      ],
      "text/plain": [
       "       0\n",
       "0     uk\n",
       "1    usa\n",
       "2  china"
      ]
     },
     "execution_count": 57,
     "metadata": {},
     "output_type": "execute_result"
    }
   ],
   "source": [
    "places=pd.DataFrame(result[\"places_lived\"])\n",
    "places"
   ]
  },
  {
   "cell_type": "code",
   "execution_count": 70,
   "id": "219ef832",
   "metadata": {},
   "outputs": [
    {
     "data": {
      "text/html": [
       "<div>\n",
       "<style scoped>\n",
       "    .dataframe tbody tr th:only-of-type {\n",
       "        vertical-align: middle;\n",
       "    }\n",
       "\n",
       "    .dataframe tbody tr th {\n",
       "        vertical-align: top;\n",
       "    }\n",
       "\n",
       "    .dataframe thead th {\n",
       "        text-align: right;\n",
       "    }\n",
       "</style>\n",
       "<table border=\"1\" class=\"dataframe\">\n",
       "  <thead>\n",
       "    <tr style=\"text-align: right;\">\n",
       "      <th></th>\n",
       "      <th>a</th>\n",
       "      <th>b</th>\n",
       "      <th>c</th>\n",
       "      <th>d</th>\n",
       "      <th>names</th>\n",
       "    </tr>\n",
       "  </thead>\n",
       "  <tbody>\n",
       "    <tr>\n",
       "      <th>0</th>\n",
       "      <td>1</td>\n",
       "      <td>3</td>\n",
       "      <td>4</td>\n",
       "      <td>5</td>\n",
       "      <td>ram</td>\n",
       "    </tr>\n",
       "    <tr>\n",
       "      <th>1</th>\n",
       "      <td>6</td>\n",
       "      <td>7</td>\n",
       "      <td>8</td>\n",
       "      <td>9</td>\n",
       "      <td>radha</td>\n",
       "    </tr>\n",
       "    <tr>\n",
       "      <th>2</th>\n",
       "      <td>10</td>\n",
       "      <td>11</td>\n",
       "      <td>12</td>\n",
       "      <td>13</td>\n",
       "      <td>shyama</td>\n",
       "    </tr>\n",
       "  </tbody>\n",
       "</table>\n",
       "</div>"
      ],
      "text/plain": [
       "   a    b   c   d   names\n",
       "0   1   3   4   5     ram\n",
       "1   6   7   8   9   radha\n",
       "2  10  11  12  13  shyama"
      ]
     },
     "execution_count": 70,
     "metadata": {},
     "output_type": "execute_result"
    }
   ],
   "source": [
    "data =pd.read_csv(r'C:\\Users\\prince\\Desktop\\test1\\ex1.csv')\n",
    "data.to_json('ex2.json')\n",
    "data2=pd.read_json('ex2.json')\n",
    "data2"
   ]
  },
  {
   "cell_type": "code",
   "execution_count": 71,
   "id": "efc014e3",
   "metadata": {},
   "outputs": [
    {
     "data": {
      "text/plain": [
       "0       ram\n",
       "1     radha\n",
       "2    shyama\n",
       "Name: names, dtype: object"
      ]
     },
     "execution_count": 71,
     "metadata": {},
     "output_type": "execute_result"
    }
   ],
   "source": [
    "data2['names']"
   ]
  },
  {
   "cell_type": "code",
   "execution_count": 77,
   "id": "3847114e",
   "metadata": {},
   "outputs": [
    {
     "name": "stdout",
     "output_type": "stream",
     "text": [
      "[{\"a \":1,\"b\":3,\"c\":4,\"d\":5,\"names\":\"ram\"},{\"a \":6,\"b\":7,\"c\":8,\"d\":9,\"names\":\"radha\"},{\"a \":10,\"b\":11,\"c\":12,\"d\":13,\"names\":\"shyama\"}]\n"
     ]
    }
   ],
   "source": [
    "print(data.to_json(orient='records'))"
   ]
  },
  {
   "cell_type": "code",
   "execution_count": null,
   "id": "b985fdfe",
   "metadata": {},
   "outputs": [],
   "source": []
  }
 ],
 "metadata": {
  "kernelspec": {
   "display_name": "Python 3 (ipykernel)",
   "language": "python",
   "name": "python3"
  },
  "language_info": {
   "codemirror_mode": {
    "name": "ipython",
    "version": 3
   },
   "file_extension": ".py",
   "mimetype": "text/x-python",
   "name": "python",
   "nbconvert_exporter": "python",
   "pygments_lexer": "ipython3",
   "version": "3.9.13"
  }
 },
 "nbformat": 4,
 "nbformat_minor": 5
}
