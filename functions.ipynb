{
 "cells": [
  {
   "cell_type": "code",
   "execution_count": 8,
   "id": "c1260292-18cf-4d02-b27e-de3d10e0f9e1",
   "metadata": {},
   "outputs": [
    {
     "name": "stdout",
     "output_type": "stream",
     "text": [
      "Hello monica,morning\n",
      "Hello ram,jai hind\n",
      "Hello user,morning\n"
     ]
    }
   ],
   "source": [
    "def greet (name=\"user\" ,msg=\"morning\" ):\n",
    "    print (\"Hello\",name + ','+msg)\n",
    "    \n",
    "greet (\"monica\")\n",
    "greet (\"ram\" ,\"jai hind\")\n",
    "greet ()"
   ]
  },
  {
   "cell_type": "code",
   "execution_count": 9,
   "id": "2eaa808f-6a9d-4d21-917e-5cab389838d4",
   "metadata": {},
   "outputs": [
    {
     "name": "stdout",
     "output_type": "stream",
     "text": [
      "('monica', 'ram', 'abhinav')\n"
     ]
    }
   ],
   "source": [
    "def greet(*names):\n",
    "    print(names)\n",
    "greet (\"monica\",\"ram\",\"abhinav\")"
   ]
  },
  {
   "cell_type": "code",
   "execution_count": 30,
   "id": "7b0229af-5b12-4fa6-bdd2-8225be1b954b",
   "metadata": {},
   "outputs": [
    {
     "name": "stdout",
     "output_type": "stream",
     "text": [
      "171\n"
     ]
    }
   ],
   "source": [
    "#sum of first n natural numbers prepista n.3\n",
    "n=18\n",
    "def add_till(n):\n",
    "    if n==1:\n",
    "        return 1\n",
    "    else:\n",
    "        return n+ add_till (n-1)\n",
    "    \n",
    "print(add_till(18))"
   ]
  },
  {
   "cell_type": "code",
   "execution_count": 10,
   "id": "2401450b-049b-4c4b-9329-df771c1c5015",
   "metadata": {},
   "outputs": [
    {
     "name": "stdout",
     "output_type": "stream",
     "text": [
      "25\n"
     ]
    }
   ],
   "source": [
    "#lambda functions\n",
    "square = lambda x: x*x\n",
    "#function call\n",
    "result = square (5)\n",
    "print (result)"
   ]
  },
  {
   "cell_type": "code",
   "execution_count": null,
   "id": "167b5648-efd0-4157-9aba-ca47ab012d43",
   "metadata": {},
   "outputs": [],
   "source": []
  }
 ],
 "metadata": {
  "kernelspec": {
   "display_name": "Python 3 (ipykernel)",
   "language": "python",
   "name": "python3"
  },
  "language_info": {
   "codemirror_mode": {
    "name": "ipython",
    "version": 3
   },
   "file_extension": ".py",
   "mimetype": "text/x-python",
   "name": "python",
   "nbconvert_exporter": "python",
   "pygments_lexer": "ipython3",
   "version": "3.10.6"
  }
 },
 "nbformat": 4,
 "nbformat_minor": 5
}
