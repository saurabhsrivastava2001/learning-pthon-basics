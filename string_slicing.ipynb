{
 "cells": [
  {
   "cell_type": "code",
   "execution_count": 1,
   "id": "246d4de1-79eb-4a45-84d4-c79236bcf298",
   "metadata": {},
   "outputs": [
    {
     "data": {
      "text/plain": [
       "'hbaruas'"
      ]
     },
     "execution_count": 1,
     "metadata": {},
     "output_type": "execute_result"
    }
   ],
   "source": [
    "#reverse\n",
    "s=\"saurabh\"\n",
    "s[::-1]"
   ]
  },
  {
   "cell_type": "code",
   "execution_count": 2,
   "id": "34ea40b3-40f3-433c-ab28-840112d4c834",
   "metadata": {},
   "outputs": [
    {
     "data": {
      "text/plain": [
       "'suah'"
      ]
     },
     "execution_count": 2,
     "metadata": {},
     "output_type": "execute_result"
    }
   ],
   "source": [
    "#jumping\n",
    "s[::2]"
   ]
  },
  {
   "cell_type": "code",
   "execution_count": 3,
   "id": "2511425f-016a-4e9c-bdb4-272548df63ee",
   "metadata": {},
   "outputs": [
    {
     "data": {
      "text/plain": [
       "'haus'"
      ]
     },
     "execution_count": 3,
     "metadata": {},
     "output_type": "execute_result"
    }
   ],
   "source": [
    "#reverse jump\n",
    "s[::-2]"
   ]
  },
  {
   "cell_type": "code",
   "execution_count": 4,
   "id": "d8442ee0-f284-49a1-891a-63d4d4e9433a",
   "metadata": {},
   "outputs": [
    {
     "data": {
      "text/plain": [
       "'s'"
      ]
     },
     "execution_count": 4,
     "metadata": {},
     "output_type": "execute_result"
    }
   ],
   "source": [
    "#few more\n",
    "s[0::-1] #???\n",
    "# it starts wih 0th index and print s[0]\n",
    "#then it goes in negative direction and wants to print the next\n",
    "# but already reached the end (in the case of neg jmp 0th is the last)\n",
    "#so ends executing"
   ]
  },
  {
   "cell_type": "code",
   "execution_count": 5,
   "id": "d45f779c-43ca-4d14-8277-ab3a7222d057",
   "metadata": {},
   "outputs": [
    {
     "data": {
      "text/plain": [
       "'as'"
      ]
     },
     "execution_count": 5,
     "metadata": {},
     "output_type": "execute_result"
    }
   ],
   "source": [
    "s[1::-1]\n",
    "# it starts wih 1sttt index and print s[1]\n",
    "#then it goes in negative direction and wants to print the next prints s[0] then goes for next\n",
    "# but already reached the end (in the case of neg jmp 0th is the last)\n"
   ]
  },
  {
   "cell_type": "code",
   "execution_count": 6,
   "id": "99de3509-29d1-4265-84ca-d97f1327ccd4",
   "metadata": {},
   "outputs": [
    {
     "data": {
      "text/plain": [
       "'h'"
      ]
     },
     "execution_count": 6,
     "metadata": {},
     "output_type": "execute_result"
    }
   ],
   "source": [
    "s[-1::1]\n",
    "#same case as explained earlier\n",
    "#starts from -1  to +ve prints 'h' then jumps but reached last position so stops"
   ]
  },
  {
   "cell_type": "code",
   "execution_count": 7,
   "id": "61c7835e-914f-4931-b2f5-0a0cb69adb1f",
   "metadata": {},
   "outputs": [
    {
     "data": {
      "text/plain": [
       "'hba'"
      ]
     },
     "execution_count": 7,
     "metadata": {},
     "output_type": "execute_result"
    }
   ],
   "source": [
    "s[-1:3:-1]"
   ]
  },
  {
   "cell_type": "code",
   "execution_count": null,
   "id": "4628a5af-13f8-4012-a783-993a555bb119",
   "metadata": {},
   "outputs": [],
   "source": []
  }
 ],
 "metadata": {
  "kernelspec": {
   "display_name": "Python 3 (ipykernel)",
   "language": "python",
   "name": "python3"
  },
  "language_info": {
   "codemirror_mode": {
    "name": "ipython",
    "version": 3
   },
   "file_extension": ".py",
   "mimetype": "text/x-python",
   "name": "python",
   "nbconvert_exporter": "python",
   "pygments_lexer": "ipython3",
   "version": "3.10.6"
  }
 },
 "nbformat": 4,
 "nbformat_minor": 5
}
